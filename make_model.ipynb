{
 "cells": [
  {
   "cell_type": "code",
   "execution_count": 3,
   "id": "48b0548b-12fe-44b7-8679-777432ef36b7",
   "metadata": {},
   "outputs": [],
   "source": [
    "import pandas as pd\n",
    "\n",
    "file_path = './input/melb_data.csv'\n",
    "data = pd.read_csv(file_path) # 학습 데이터를 불러온다. \n",
    "\n",
    "# 예측하고자 하는 값을 가져온다. 여기서는 집값이다. \n",
    "y = data.Price \n",
    "\n",
    "# 위 트리 그림의 침대 갯수, 평수, 화장실 갯수 처럼 예측에 쓰일 특징을 정한다. 이를 Feature 라고 한다.\n",
    "features = ['Rooms', 'Bathroom', 'Landsize', 'Lattitude', 'Longtitude']\n",
    "\n",
    "# 위 Feature에 해당하는 data만 추출합니다. \n",
    "X = data[features]"
   ]
  },
  {
   "cell_type": "code",
   "execution_count": 4,
   "id": "14875d6f-68c9-4b46-93a5-47e790102585",
   "metadata": {},
   "outputs": [
    {
     "name": "stdout",
     "output_type": "stream",
     "text": [
      "Making predictions for the following 5 houses:\n",
      "0    1480000.0\n",
      "1    1035000.0\n",
      "2    1465000.0\n",
      "3     850000.0\n",
      "4    1600000.0\n",
      "Name: Price, dtype: float64\n",
      "The predictions are\n",
      "[1480000. 1035000. 1465000.  850000. 1600000.]\n"
     ]
    }
   ],
   "source": [
    "from sklearn.tree import DecisionTreeRegressor\n",
    "\n",
    "# 1. Define \n",
    "model = DecisionTreeRegressor(random_state=1)\n",
    "\n",
    "# 2. Fit\n",
    "model.fit(X, y)\n",
    "\n",
    "# 3. Predict (상위 5개 집의 실제 가격과 예측 가격을 비교해 본다.)\n",
    "print(\"Making predictions for the following 5 houses:\")\n",
    "print(data.head().Price)\n",
    "print(\"The predictions are\")\n",
    "print(model.predict(X.head()))"
   ]
  },
  {
   "cell_type": "code",
   "execution_count": 5,
   "id": "1105417e-4cf0-4b6e-8d7d-cfe6798c8833",
   "metadata": {},
   "outputs": [
    {
     "data": {
      "text/plain": [
       "1125.1804614629357"
      ]
     },
     "execution_count": 5,
     "metadata": {},
     "output_type": "execute_result"
    }
   ],
   "source": [
    "from sklearn.metrics import mean_absolute_error \n",
    "\n",
    "predicted_prices = model.predict(X)\n",
    "mean_absolute_error(y, predicted_prices)"
   ]
  },
  {
   "cell_type": "code",
   "execution_count": null,
   "id": "32571f7e-f96f-437d-bad4-cc8212573598",
   "metadata": {},
   "outputs": [],
   "source": []
  }
 ],
 "metadata": {
  "kernelspec": {
   "display_name": "Python 3 (ipykernel)",
   "language": "python",
   "name": "python3"
  },
  "language_info": {
   "codemirror_mode": {
    "name": "ipython",
    "version": 3
   },
   "file_extension": ".py",
   "mimetype": "text/x-python",
   "name": "python",
   "nbconvert_exporter": "python",
   "pygments_lexer": "ipython3",
   "version": "3.11.1"
  }
 },
 "nbformat": 4,
 "nbformat_minor": 5
}
